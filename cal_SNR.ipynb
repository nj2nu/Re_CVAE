{
 "cells": [
  {
   "cell_type": "code",
   "execution_count": 2,
   "id": "caa5734d-6ae9-47ab-8664-5523a51d6cf5",
   "metadata": {},
   "outputs": [],
   "source": [
    "import numpy as np\n",
    "import bilby\n",
    "import matplotlib.pyplot as plt\n",
    "import scipy\n",
    "import lalsimulation\n",
    "import lal\n",
    "import time\n",
    "import h5py\n",
    "from bilby_pe import gen_template,gen_masses,gen_par"
   ]
  },
  {
   "cell_type": "code",
   "execution_count": 3,
   "id": "b001188a-10ff-42c5-a72e-887c7797512a",
   "metadata": {},
   "outputs": [],
   "source": [
    "fixed_vals = {'mass_1':50.0,\n",
    "        'mass_2':50.0,\n",
    "        'geocent_time':0.0,\n",
    "        'phase':0.0,\n",
    "        'ra':1.375,\n",
    "        'dec':-1.2108,\n",
    "        'psi':0.0,\n",
    "        'theta_jn':0.0,\n",
    "        'luminosity_distance':1000.0,\n",
    "        'a_1':0.0,\n",
    "        'a_2':0.0,\n",
    "        'tilt_1':0.0,\n",
    "        'tilt_2':0.0,\n",
    "        'phi_12':0.0,\n",
    "        'phi_jl':0.0,\n",
    "        'det':['H1','L1','V1']}\n",
    "\n",
    "injection_vals = {'mass_1':50.0,\n",
    "        'mass_2':50.0,\n",
    "        'geocent_time':0.0,\n",
    "        'phase':0.0,\n",
    "        'ra':1.375,\n",
    "        'dec':-1.2108,\n",
    "        'psi':0.0,\n",
    "        'theta_jn':0.0,\n",
    "        'luminosity_distance':1000.0,\n",
    "        'a_1':0.0,\n",
    "        'a_2':0.0,\n",
    "        'tilt_1':0.0,\n",
    "        'tilt_2':0.0,\n",
    "        'phi_12':0.0,\n",
    "        'phi_jl':0.0}\n",
    "\n",
    "bounds = {'mass_1_min':35.0, 'mass_1_max':80.0,\n",
    "        'mass_2_min':35.0, 'mass_2_max':80.0,\n",
    "        'M_min':70.0, 'M_max':160.0,\n",
    "        'geocent_time_min':0.15,'geocent_time_max':0.35,\n",
    "        'phase_min':0.0, 'phase_max':2.0*np.pi,\n",
    "        'ra_min':0.0, 'ra_max':2.0*np.pi,\n",
    "        'dec_min':-0.5*np.pi, 'dec_max':0.5*np.pi,\n",
    "        'psi_min':0.0, 'psi_max':2.0*np.pi,\n",
    "        'theta_jn_min':0.0, 'theta_jn_max':np.pi,\n",
    "        'a_1_min':0.0, 'a_1_max':0.0,\n",
    "        'a_2_min':0.0, 'a_2_max':0.0,\n",
    "        'tilt_1_min':0.0, 'tilt_1_max':0.0,\n",
    "        'tilt_2_min':0.0, 'tilt_2_max':0.0,\n",
    "        'phi_12_min':0.0, 'phi_12_max':0.0,\n",
    "        'phi_jl_min':0.0, 'phi_jl_max':0.0,\n",
    "        'luminosity_distance_min':1000.0, 'luminosity_distance_max':3000.0}\n",
    "\n",
    "rand_pars = ['mass_1','mass_2']\n",
    "inf_pars=['mass_1','mass_2']   \n",
    "ref_geocent_time = 1126259642.5"
   ]
  },
  {
   "cell_type": "code",
   "execution_count": 5,
   "id": "29778781-225c-4ed9-8e25-fd11a3b43fb1",
   "metadata": {},
   "outputs": [
    {
     "name": "stdout",
     "output_type": "stream",
     "text": [
      "Tue Nov  8 15:11:46 2022: using uniform mass and non-equal mass distribution\n",
      "Tue Nov  8 15:11:46 2022: selected bbh masses = 72.1597877031744,41.10098069016847 (chirp mass = 47.04056810639004)\n"
     ]
    }
   ],
   "source": [
    "pars = gen_par(fixed_vals,bounds=bounds,rand_pars=rand_pars,mdist='uniform')\n",
    "temp = []\n",
    "for p in rand_pars:\n",
    "    for q,qi in pars.items():\n",
    "        if p==q:\n",
    "            temp.append(qi)       "
   ]
  },
  {
   "cell_type": "code",
   "execution_count": 6,
   "id": "8a630e32-daf7-4ced-ac2a-bbecb5b2c195",
   "metadata": {},
   "outputs": [
    {
     "name": "stderr",
     "output_type": "stream",
     "text": [
      "15:11 bilby INFO    : Waveform generator initiated with\n",
      "  frequency_domain_source_model: bilby.gw.source.lal_binary_black_hole\n",
      "  time_domain_source_model: None\n",
      "  parameter_conversion: bilby.gw.conversion.convert_to_lal_binary_black_hole_parameters\n",
      "15:11 bilby INFO    : Injected signal in H1:\n",
      "15:11 bilby INFO    :   optimal SNR = 33.48\n",
      "15:11 bilby INFO    :   matched filter SNR = 32.89+0.45j\n",
      "15:11 bilby INFO    :   mass_1 = 72.1597877031744\n",
      "15:11 bilby INFO    :   mass_2 = 41.10098069016847\n",
      "15:11 bilby INFO    :   a_1 = 0.0\n",
      "15:11 bilby INFO    :   a_2 = 0.0\n",
      "15:11 bilby INFO    :   tilt_1 = 0.0\n",
      "15:11 bilby INFO    :   tilt_2 = 0.0\n",
      "15:11 bilby INFO    :   phi_12 = 0.0\n",
      "15:11 bilby INFO    :   phi_jl = 0.0\n",
      "15:11 bilby INFO    :   luminosity_distance = 1000.0\n",
      "15:11 bilby INFO    :   theta_jn = 0.0\n",
      "15:11 bilby INFO    :   psi = 0.0\n",
      "15:11 bilby INFO    :   phase = 0.0\n",
      "15:11 bilby INFO    :   geocent_time = 1126259642.5\n",
      "15:11 bilby INFO    :   ra = 1.375\n",
      "15:11 bilby INFO    :   dec = -1.2108\n",
      "15:11 bilby INFO    : Injected signal in L1:\n",
      "15:11 bilby INFO    :   optimal SNR = 27.11\n",
      "15:11 bilby INFO    :   matched filter SNR = 26.17+1.99j\n",
      "15:11 bilby INFO    :   mass_1 = 72.1597877031744\n",
      "15:11 bilby INFO    :   mass_2 = 41.10098069016847\n",
      "15:11 bilby INFO    :   a_1 = 0.0\n",
      "15:11 bilby INFO    :   a_2 = 0.0\n",
      "15:11 bilby INFO    :   tilt_1 = 0.0\n",
      "15:11 bilby INFO    :   tilt_2 = 0.0\n",
      "15:11 bilby INFO    :   phi_12 = 0.0\n",
      "15:11 bilby INFO    :   phi_jl = 0.0\n",
      "15:11 bilby INFO    :   luminosity_distance = 1000.0\n",
      "15:11 bilby INFO    :   theta_jn = 0.0\n",
      "15:11 bilby INFO    :   psi = 0.0\n",
      "15:11 bilby INFO    :   phase = 0.0\n",
      "15:11 bilby INFO    :   geocent_time = 1126259642.5\n",
      "15:11 bilby INFO    :   ra = 1.375\n",
      "15:11 bilby INFO    :   dec = -1.2108\n",
      "15:11 bilby INFO    : Injected signal in V1:\n",
      "15:11 bilby INFO    :   optimal SNR = 27.25\n",
      "15:11 bilby INFO    :   matched filter SNR = 28.57+0.37j\n",
      "15:11 bilby INFO    :   mass_1 = 72.1597877031744\n",
      "15:11 bilby INFO    :   mass_2 = 41.10098069016847\n",
      "15:11 bilby INFO    :   a_1 = 0.0\n",
      "15:11 bilby INFO    :   a_2 = 0.0\n",
      "15:11 bilby INFO    :   tilt_1 = 0.0\n",
      "15:11 bilby INFO    :   tilt_2 = 0.0\n",
      "15:11 bilby INFO    :   phi_12 = 0.0\n",
      "15:11 bilby INFO    :   phi_jl = 0.0\n",
      "15:11 bilby INFO    :   luminosity_distance = 1000.0\n",
      "15:11 bilby INFO    :   theta_jn = 0.0\n",
      "15:11 bilby INFO    :   psi = 0.0\n",
      "15:11 bilby INFO    :   phase = 0.0\n",
      "15:11 bilby INFO    :   geocent_time = 1126259642.5\n",
      "15:11 bilby INFO    :   ra = 1.375\n",
      "15:11 bilby INFO    :   dec = -1.2108\n"
     ]
    }
   ],
   "source": [
    "pars['geocent_time'] += ref_geocent_time\n",
    "test_samples_noisefree,test_samples_noisy,injection_parameters,ifos,waveform_generator = gen_template(duration = 1.0,\n",
    "                                                                                                      sampling_frequency = 1024,\n",
    "                                                                                                      pars = pars,\n",
    "                                                                                                      ref_geocent_time = ref_geocent_time )\n",
    "snr = np.array([ifos[j].meta_data['optimal_SNR'] for j in range(len(pars['det']))])"
   ]
  },
  {
   "cell_type": "code",
   "execution_count": 20,
   "id": "1564b0ca-e01d-44f7-acb8-b5e4b6d758a2",
   "metadata": {},
   "outputs": [],
   "source": [
    "from bilby.gw.utils import noise_weighted_inner_product\n",
    "from bilby.gw.detector.psd import PowerSpectralDensity"
   ]
  },
  {
   "cell_type": "code",
   "execution_count": 47,
   "id": "6251ad62-0461-48e6-8585-731f3ca422f7",
   "metadata": {
    "tags": []
   },
   "outputs": [],
   "source": [
    "new_data = (test_samples_noisefree + np.random.normal(loc = 0.0, scale = 1.0, size = test_samples_noisefree.shape))"
   ]
  },
  {
   "cell_type": "code",
   "execution_count": 56,
   "id": "a049a9fb-9c17-463c-b14b-ce704653397d",
   "metadata": {},
   "outputs": [
    {
     "ename": "ValueError",
     "evalue": "operands could not be broadcast together with shapes (3,1024) (2,513) ",
     "output_type": "error",
     "traceback": [
      "\u001b[0;31m---------------------------------------------------------------------------\u001b[0m",
      "\u001b[0;31mValueError\u001b[0m                                Traceback (most recent call last)",
      "Input \u001b[0;32mIn [56]\u001b[0m, in \u001b[0;36m<cell line: 1>\u001b[0;34m()\u001b[0m\n\u001b[0;32m----> 1\u001b[0m np\u001b[38;5;241m.\u001b[39msqrt(\u001b[43mnoise_weighted_inner_product\u001b[49m\u001b[43m(\u001b[49m\u001b[43mnew_data\u001b[49m\u001b[43m,\u001b[49m\u001b[43m \u001b[49m\u001b[43mnew_data\u001b[49m\u001b[43m,\u001b[49m\u001b[43m \u001b[49m\u001b[43mpsd\u001b[49m\u001b[43m,\u001b[49m\u001b[43m \u001b[49m\u001b[43mduration\u001b[49m\u001b[43m \u001b[49m\u001b[38;5;241;43m=\u001b[39;49m\u001b[43m \u001b[49m\u001b[38;5;241;43m1\u001b[39;49m\u001b[43m)\u001b[49m)\n",
      "File \u001b[0;32m/opt/anaconda3/envs/igwn-py39/lib/python3.9/site-packages/bilby/gw/utils.py:217\u001b[0m, in \u001b[0;36mnoise_weighted_inner_product\u001b[0;34m(aa, bb, power_spectral_density, duration)\u001b[0m\n\u001b[1;32m    197\u001b[0m \u001b[38;5;28;01mdef\u001b[39;00m \u001b[38;5;21mnoise_weighted_inner_product\u001b[39m(aa, bb, power_spectral_density, duration):\n\u001b[1;32m    198\u001b[0m     \u001b[38;5;124;03m\"\"\"\u001b[39;00m\n\u001b[1;32m    199\u001b[0m \u001b[38;5;124;03m    Calculate the noise weighted inner product between two arrays.\u001b[39;00m\n\u001b[1;32m    200\u001b[0m \n\u001b[0;32m   (...)\u001b[0m\n\u001b[1;32m    214\u001b[0m \u001b[38;5;124;03m    Noise-weighted inner product.\u001b[39;00m\n\u001b[1;32m    215\u001b[0m \u001b[38;5;124;03m    \"\"\"\u001b[39;00m\n\u001b[0;32m--> 217\u001b[0m     integrand \u001b[38;5;241m=\u001b[39m \u001b[43mnp\u001b[49m\u001b[38;5;241;43m.\u001b[39;49m\u001b[43mconj\u001b[49m\u001b[43m(\u001b[49m\u001b[43maa\u001b[49m\u001b[43m)\u001b[49m\u001b[43m \u001b[49m\u001b[38;5;241;43m*\u001b[39;49m\u001b[43m \u001b[49m\u001b[43mbb\u001b[49m\u001b[43m \u001b[49m\u001b[38;5;241;43m/\u001b[39;49m\u001b[43m \u001b[49m\u001b[43mpower_spectral_density\u001b[49m\n\u001b[1;32m    218\u001b[0m     \u001b[38;5;28;01mreturn\u001b[39;00m \u001b[38;5;241m4\u001b[39m \u001b[38;5;241m/\u001b[39m duration \u001b[38;5;241m*\u001b[39m np\u001b[38;5;241m.\u001b[39msum(integrand)\n",
      "\u001b[0;31mValueError\u001b[0m: operands could not be broadcast together with shapes (3,1024) (2,513) "
     ]
    }
   ],
   "source": [
    "np.sqrt(noise_weighted_inner_product(new_data, new_data, psd, duration = 1))"
   ]
  },
  {
   "cell_type": "code",
   "execution_count": 58,
   "id": "38e92f9c-d82b-42e8-9273-dbab581020f4",
   "metadata": {},
   "outputs": [
    {
     "data": {
      "text/plain": [
       "(2, 513)"
      ]
     },
     "execution_count": 58,
     "metadata": {},
     "output_type": "execute_result"
    }
   ],
   "source": [
    "psd = np.array(psd)\n",
    "psd.shape"
   ]
  },
  {
   "cell_type": "code",
   "execution_count": 57,
   "id": "ed3a937f-0f1c-44c8-8e19-e5791fdbafbd",
   "metadata": {},
   "outputs": [
    {
     "data": {
      "image/png": "[encoded data removed]",
      "text/plain": [
       "<Figure size 432x288 with 1 Axes>"
      ]
     },
     "metadata": {
      "needs_background": "light"
     },
     "output_type": "display_data"
    }
   ],
   "source": [
    "import matplotlib.pyplot as plt\n",
    "import numpy as np\n",
    "import matplotlib.mlab as mlab\n",
    "import matplotlib.gridspec as gridspec\n",
    "\n",
    "diff = 0.01\n",
    "psd = plt.psd(np.random.normal(loc = 0.0, scale = 1.0, size = test_samples_noisefree.shape), 1024, 1 / diff)\n",
    "#plt.show()"
   ]
  },
  {
   "cell_type": "code",
   "execution_count": null,
   "id": "96ebeef2-cb14-495c-a215-f6cd846ce0a9",
   "metadata": {},
   "outputs": [],
   "source": []
  }
 ],
 "metadata": {
  "kernelspec": {
   "display_name": "Python (igwn-py39)",
   "language": "python",
   "name": "igwn-py39"
  },
  "language_info": {
   "codemirror_mode": {
    "name": "ipython",
    "version": 3
   },
   "file_extension": ".py",
   "mimetype": "text/x-python",
   "name": "python",
   "nbconvert_exporter": "python",
   "pygments_lexer": "ipython3",
   "version": "3.9.12"
  }
 },
 "nbformat": 4,
 "nbformat_minor": 5
}
